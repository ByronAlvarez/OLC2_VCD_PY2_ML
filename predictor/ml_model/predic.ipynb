{
 "cells": [
  {
   "cell_type": "code",
   "execution_count": null,
   "metadata": {},
   "outputs": [],
   "source": [
    "\n",
    "import pandas as pd\n",
    "import numpy as np\n",
    "\n",
    "col_list = ['Date_reported', 'Country', 'New_cases']  # String\n",
    "dataset = pd.read_csv('WHO-COVID-19-global-data.csv', usecols=col_list)\n",
    "\n",
    "xx = dataset.loc[dataset['Country'] == 'Afghanistan']\n",
    "xx['Date_reported'] = xx['Date_reported'].astype('category').cat.codes\n",
    "\n",
    "pos1 = dataset.columns.get_loc('Date_reported')\n",
    "pos2 = dataset.columns.get_loc('New_cases')\n",
    "\n",
    "X = xx.iloc[:, pos1].values\n",
    "X = X.reshape(-1, 1)\n",
    "\n",
    "yy = dataset.loc[dataset['Country'] == 'Afghanistan']\n",
    "y = yy.iloc[:, pos2].values\n"
   ]
  }
 ],
 "metadata": {
  "language_info": {
   "name": "python"
  },
  "orig_nbformat": 4
 },
 "nbformat": 4,
 "nbformat_minor": 2
}
