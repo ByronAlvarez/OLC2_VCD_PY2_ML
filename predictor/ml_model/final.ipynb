{
 "cells": [
  {
   "cell_type": "code",
   "execution_count": 32,
   "metadata": {},
   "outputs": [
    {
     "name": "stdout",
     "output_type": "stream",
     "text": [
      "['P']\n",
      "['P']\n"
     ]
    }
   ],
   "source": [
    "import pandas as pd\n",
    "import numpy as np\n",
    "from sklearn.naive_bayes import GaussianNB\n",
    "\n",
    "\n",
    "\n",
    "dataset = pd.read_csv('pred.csv')\n",
    "\n",
    "X  = dataset.iloc[:, 1:5].values\n",
    "y = dataset.iloc[:, 5].values\n",
    "\n",
    "clf = GaussianNB()\n",
    "clf.fit(X, y)\n",
    "print(clf.predict([[10, 20, 400, True]]))\n",
    "\n",
    "clf_pf = GaussianNB()\n",
    "clf_pf.partial_fit(X, y, np.unique(y))\n",
    "print(clf_pf.predict([[10, 20, 400, True]]))\n"
   ]
  },
  {
   "cell_type": "code",
   "execution_count": 75,
   "metadata": {},
   "outputs": [
    {
     "name": "stdout",
     "output_type": "stream",
     "text": [
      "[[ 1]\n",
      " [ 2]\n",
      " [ 3]\n",
      " [ 4]\n",
      " [ 5]\n",
      " [ 6]\n",
      " [ 7]\n",
      " [ 8]\n",
      " [ 9]\n",
      " [10]]\n",
      "[  1   5  20  60  90 120 180 220 340 410]\n",
      "[  3.98181818   7.83636364  21.96363636  46.36363636  81.03636364\n",
      " 125.98181818 181.2        246.69090909 322.45454545 408.49090909]\n",
      "11.605327930034397\n",
      "0.992597131913281\n"
     ]
    }
   ],
   "source": [
    "from sklearn.preprocessing import PolynomialFeatures\n",
    "from sklearn.linear_model import LinearRegression\n",
    "from sklearn.metrics import r2_score\n",
    "X_ = dataset.iloc[:, 0].values\n",
    "X_ = X_.reshape(-1, 1)\n",
    "y_ = dataset.iloc[:, 2].values\n",
    "X_test = [30]\n",
    "print(X_)\n",
    "print(y_)\n",
    "\n",
    "features = PolynomialFeatures(degree=2)\n",
    "x_train_transformed = features.fit_transform(X_)\n",
    "\n",
    "model = LinearRegression()\n",
    "model.fit(x_train_transformed, y_)\n",
    "\n",
    "x_true_transformed = features.fit_transform(X_)\n",
    "model_curve = model.predict(x_true_transformed)\n",
    "print(model_curve)\n",
    "\n",
    "model.predict(features.fit_transform([X_test]))\n",
    "print(mean_squared_error(y_, model_curve, squared=False))\n",
    "print(r2_score(y_true=y_, y_pred=model_curve))\n",
    "#print(model.predict([[50]]))\n"
   ]
  },
  {
   "cell_type": "code",
   "execution_count": 60,
   "metadata": {},
   "outputs": [
    {
     "name": "stdout",
     "output_type": "stream",
     "text": [
      "[400.5 405.8 410.9 425.4 450.1 500.5 575.7 456.5 320.1 221.9]\n",
      "[-8.95757576]\n"
     ]
    }
   ],
   "source": [
    "Xl = dataset.iloc[:, 0].values\n",
    "Xl = Xl.reshape(-1, 1)\n",
    "yl = dataset.iloc[:, 3].values\n",
    "print(yl)\n",
    "\n",
    "model2 = LinearRegression()\n",
    "model2.fit(Xl, yl)\n",
    "print(model2.coef_)\n",
    "#print(model2.predict([[2050]]))\n"
   ]
  },
  {
   "cell_type": "code",
   "execution_count": 62,
   "metadata": {},
   "outputs": [
    {
     "name": "stdout",
     "output_type": "stream",
     "text": [
      "87.2654315953067\n"
     ]
    }
   ],
   "source": [
    "from sklearn.metrics import mean_squared_error\n",
    "Xe = dataset.iloc[:, 0].values\n",
    "Xe = Xe.reshape(-1, 1)\n",
    "ye = dataset.iloc[:, 3].values\n",
    "\n",
    "model3 = LinearRegression()\n",
    "model3.fit(Xe, ye)\n",
    "\n",
    "diabetes_y_pred = model3.predict(Xe)\n",
    "\n",
    "print(mean_squared_error(ye, diabetes_y_pred, squared=False))\n"
   ]
  },
  {
   "cell_type": "code",
   "execution_count": 72,
   "metadata": {},
   "outputs": [
    {
     "name": "stdout",
     "output_type": "stream",
     "text": [
      "['N' 'P' 'P' 'N' 'P' 'P' 'N' 'P' 'N' 'P']\n"
     ]
    },
    {
     "data": {
      "text/plain": [
       "[Text(0.5714285714285714, 0.9285714285714286, 'X[1] <= 3.0\\ngini = 0.48\\nsamples = 10\\nvalue = [4, 6]\\nclass = y[1]'),\n",
       " Text(0.42857142857142855, 0.7857142857142857, 'gini = 0.0\\nsamples = 1\\nvalue = [1, 0]\\nclass = y[0]'),\n",
       " Text(0.7142857142857143, 0.7857142857142857, 'X[2] <= 538.1\\ngini = 0.444\\nsamples = 9\\nvalue = [3, 6]\\nclass = y[1]'),\n",
       " Text(0.5714285714285714, 0.6428571428571429, 'X[0] <= 10.55\\ngini = 0.375\\nsamples = 8\\nvalue = [2, 6]\\nclass = y[1]'),\n",
       " Text(0.42857142857142855, 0.5, 'X[0] <= 10.05\\ngini = 0.48\\nsamples = 5\\nvalue = [2, 3]\\nclass = y[1]'),\n",
       " Text(0.2857142857142857, 0.35714285714285715, 'X[2] <= 415.6\\ngini = 0.375\\nsamples = 4\\nvalue = [1, 3]\\nclass = y[1]'),\n",
       " Text(0.14285714285714285, 0.21428571428571427, 'gini = 0.0\\nsamples = 2\\nvalue = [0, 2]\\nclass = y[1]'),\n",
       " Text(0.42857142857142855, 0.21428571428571427, 'X[0] <= 9.15\\ngini = 0.5\\nsamples = 2\\nvalue = [1, 1]\\nclass = y[0]'),\n",
       " Text(0.2857142857142857, 0.07142857142857142, 'gini = 0.0\\nsamples = 1\\nvalue = [0, 1]\\nclass = y[1]'),\n",
       " Text(0.5714285714285714, 0.07142857142857142, 'gini = 0.0\\nsamples = 1\\nvalue = [1, 0]\\nclass = y[0]'),\n",
       " Text(0.5714285714285714, 0.35714285714285715, 'gini = 0.0\\nsamples = 1\\nvalue = [1, 0]\\nclass = y[0]'),\n",
       " Text(0.7142857142857143, 0.5, 'gini = 0.0\\nsamples = 3\\nvalue = [0, 3]\\nclass = y[1]'),\n",
       " Text(0.8571428571428571, 0.6428571428571429, 'gini = 0.0\\nsamples = 1\\nvalue = [1, 0]\\nclass = y[0]')]"
      ]
     },
     "execution_count": 72,
     "metadata": {},
     "output_type": "execute_result"
    },
    {
     "data": {
      "image/png": "[encoded data removed]",
      "text/plain": [
       "<Figure size 432x288 with 1 Axes>"
      ]
     },
     "metadata": {
      "needs_background": "light"
     },
     "output_type": "display_data"
    }
   ],
   "source": [
    "from sklearn.tree import DecisionTreeClassifier\n",
    "from sklearn import tree\n",
    "\n",
    "Xa = dataset.iloc[:, 1:5].values\n",
    "ya = dataset.iloc[:, 5].values\n",
    "print(ya)\n",
    "clf = DecisionTreeClassifier()\n",
    "clf = clf.fit(Xa,ya)\n",
    "tree.plot_tree(clf, class_names=True)\n"
   ]
  }
 ],
 "metadata": {
  "interpreter": {
   "hash": "17d41968e970b4f7be5455d441ff5d575b2977ac7fd2865c1f872427ac46342f"
  },
  "kernelspec": {
   "display_name": "Python 3.10.1 64-bit ('OLC2_VCD_PY2_ML-5ZNSdpiU': pipenv)",
   "language": "python",
   "name": "python3"
  },
  "language_info": {
   "codemirror_mode": {
    "name": "ipython",
    "version": 3
   },
   "file_extension": ".py",
   "mimetype": "text/x-python",
   "name": "python",
   "nbconvert_exporter": "python",
   "pygments_lexer": "ipython3",
   "version": "3.10.1"
  },
  "orig_nbformat": 4
 },
 "nbformat": 4,
 "nbformat_minor": 2
}
